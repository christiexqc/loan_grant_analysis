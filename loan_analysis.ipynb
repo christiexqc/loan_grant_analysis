{
 "cells": [
  {
   "cell_type": "code",
   "execution_count": 12,
   "metadata": {},
   "outputs": [],
   "source": [
    "import pandas as pd\n",
    "import numpy as np\n",
    "import datetime\n",
    "import matplotlib.pyplot as plt\n",
    "import seaborn as sns\n",
    "from matplotlib import rcParams\n",
    "rcParams.update({'figure.autolayout': True})\n",
    "pd.set_option('display.max_columns', 10)\n",
    "pd.set_option('display.width', 350)"
   ]
  },
  {
   "cell_type": "markdown",
   "metadata": {},
   "source": [
    "# Import Data"
   ]
  },
  {
   "cell_type": "code",
   "execution_count": 4,
   "metadata": {},
   "outputs": [],
   "source": [
    "loan = pd.read_csv('./dataset/loan/loan_table.csv')"
   ]
  },
  {
   "cell_type": "code",
   "execution_count": 5,
   "metadata": {},
   "outputs": [
    {
     "data": {
      "text/html": [
       "<div>\n",
       "<style scoped>\n",
       "    .dataframe tbody tr th:only-of-type {\n",
       "        vertical-align: middle;\n",
       "    }\n",
       "\n",
       "    .dataframe tbody tr th {\n",
       "        vertical-align: top;\n",
       "    }\n",
       "\n",
       "    .dataframe thead th {\n",
       "        text-align: right;\n",
       "    }\n",
       "</style>\n",
       "<table border=\"1\" class=\"dataframe\">\n",
       "  <thead>\n",
       "    <tr style=\"text-align: right;\">\n",
       "      <th></th>\n",
       "      <th>loan_id</th>\n",
       "      <th>loan_purpose</th>\n",
       "      <th>date</th>\n",
       "      <th>loan_granted</th>\n",
       "      <th>loan_repaid</th>\n",
       "    </tr>\n",
       "  </thead>\n",
       "  <tbody>\n",
       "    <tr>\n",
       "      <th>0</th>\n",
       "      <td>19454</td>\n",
       "      <td>investment</td>\n",
       "      <td>2012-03-15</td>\n",
       "      <td>0</td>\n",
       "      <td>NaN</td>\n",
       "    </tr>\n",
       "    <tr>\n",
       "      <th>1</th>\n",
       "      <td>496811</td>\n",
       "      <td>investment</td>\n",
       "      <td>2012-01-17</td>\n",
       "      <td>0</td>\n",
       "      <td>NaN</td>\n",
       "    </tr>\n",
       "    <tr>\n",
       "      <th>2</th>\n",
       "      <td>929493</td>\n",
       "      <td>other</td>\n",
       "      <td>2012-02-09</td>\n",
       "      <td>0</td>\n",
       "      <td>NaN</td>\n",
       "    </tr>\n",
       "    <tr>\n",
       "      <th>3</th>\n",
       "      <td>580653</td>\n",
       "      <td>other</td>\n",
       "      <td>2012-06-27</td>\n",
       "      <td>1</td>\n",
       "      <td>1.0</td>\n",
       "    </tr>\n",
       "    <tr>\n",
       "      <th>4</th>\n",
       "      <td>172419</td>\n",
       "      <td>business</td>\n",
       "      <td>2012-05-21</td>\n",
       "      <td>1</td>\n",
       "      <td>0.0</td>\n",
       "    </tr>\n",
       "  </tbody>\n",
       "</table>\n",
       "</div>"
      ],
      "text/plain": [
       "   loan_id loan_purpose        date  loan_granted  loan_repaid\n",
       "0    19454   investment  2012-03-15             0          NaN\n",
       "1   496811   investment  2012-01-17             0          NaN\n",
       "2   929493        other  2012-02-09             0          NaN\n",
       "3   580653        other  2012-06-27             1          1.0\n",
       "4   172419     business  2012-05-21             1          0.0"
      ]
     },
     "execution_count": 5,
     "metadata": {},
     "output_type": "execute_result"
    }
   ],
   "source": [
    "loan.head()"
   ]
  },
  {
   "cell_type": "code",
   "execution_count": 13,
   "metadata": {},
   "outputs": [
    {
     "name": "stdout",
     "output_type": "stream",
     "text": [
      "<class 'pandas.core.frame.DataFrame'>\n",
      "RangeIndex: 101100 entries, 0 to 101099\n",
      "Data columns (total 5 columns):\n",
      " #   Column        Non-Null Count   Dtype  \n",
      "---  ------        --------------   -----  \n",
      " 0   loan_id       101100 non-null  int64  \n",
      " 1   loan_purpose  101100 non-null  object \n",
      " 2   date          101100 non-null  object \n",
      " 3   loan_granted  101100 non-null  int64  \n",
      " 4   loan_repaid   47654 non-null   float64\n",
      "dtypes: float64(1), int64(2), object(2)\n",
      "memory usage: 3.9+ MB\n"
     ]
    }
   ],
   "source": [
    "loan.info()"
   ]
  },
  {
   "cell_type": "code",
   "execution_count": 6,
   "metadata": {},
   "outputs": [
    {
     "data": {
      "text/plain": [
       "(101100, 5)"
      ]
     },
     "execution_count": 6,
     "metadata": {},
     "output_type": "execute_result"
    }
   ],
   "source": [
    "loan.shape"
   ]
  },
  {
   "cell_type": "code",
   "execution_count": 7,
   "metadata": {},
   "outputs": [],
   "source": [
    "borrower = pd.read_csv('./dataset/loan/borrower_table.csv')"
   ]
  },
  {
   "cell_type": "markdown",
   "metadata": {},
   "source": [
    "borrower.head()"
   ]
  },
  {
   "cell_type": "code",
   "execution_count": 14,
   "metadata": {},
   "outputs": [
    {
     "name": "stdout",
     "output_type": "stream",
     "text": [
      "<class 'pandas.core.frame.DataFrame'>\n",
      "RangeIndex: 101100 entries, 0 to 101099\n",
      "Data columns (total 12 columns):\n",
      " #   Column                                           Non-Null Count   Dtype  \n",
      "---  ------                                           --------------   -----  \n",
      " 0   loan_id                                          101100 non-null  int64  \n",
      " 1   is_first_loan                                    101100 non-null  int64  \n",
      " 2   fully_repaid_previous_loans                      46153 non-null   float64\n",
      " 3   currently_repaying_other_loans                   46153 non-null   float64\n",
      " 4   total_credit_card_limit                          101100 non-null  int64  \n",
      " 5   avg_percentage_credit_card_limit_used_last_year  94128 non-null   float64\n",
      " 6   saving_amount                                    101100 non-null  int64  \n",
      " 7   checking_amount                                  101100 non-null  int64  \n",
      " 8   is_employed                                      101100 non-null  int64  \n",
      " 9   yearly_salary                                    101100 non-null  int64  \n",
      " 10  age                                              101100 non-null  int64  \n",
      " 11  dependent_number                                 101100 non-null  int64  \n",
      "dtypes: float64(3), int64(9)\n",
      "memory usage: 9.3 MB\n"
     ]
    }
   ],
   "source": [
    "borrower.info()"
   ]
  },
  {
   "cell_type": "markdown",
   "metadata": {},
   "source": [
    "# Data Pre-Processing"
   ]
  },
  {
   "cell_type": "code",
   "execution_count": 10,
   "metadata": {},
   "outputs": [
    {
     "data": {
      "text/plain": [
       "(101100, 12)"
      ]
     },
     "execution_count": 10,
     "metadata": {},
     "output_type": "execute_result"
    }
   ],
   "source": [
    "borrower.shape"
   ]
  },
  {
   "cell_type": "markdown",
   "metadata": {},
   "source": [
    "The dataset has a lot of NAs. As a first step, we will need to deal with them. The general rule on how to deal with NAs is to firstly find out if they are random or they actually happen based on some rule. If they are random, we can either remove those rows or impute them (mean, median, etc.). On the other hand, if they do happen for a reason, we need to replace them with a specific value such that we don’t lose that information.\n",
    "\n",
    "The second scenario is way more common when dealing with consumer data."
   ]
  },
  {
   "cell_type": "code",
   "execution_count": 15,
   "metadata": {},
   "outputs": [],
   "source": [
    "data=pd.merge(borrower, loan)"
   ]
  },
  {
   "cell_type": "code",
   "execution_count": 16,
   "metadata": {},
   "outputs": [
    {
     "data": {
      "text/html": [
       "<div>\n",
       "<style scoped>\n",
       "    .dataframe tbody tr th:only-of-type {\n",
       "        vertical-align: middle;\n",
       "    }\n",
       "\n",
       "    .dataframe tbody tr th {\n",
       "        vertical-align: top;\n",
       "    }\n",
       "\n",
       "    .dataframe thead th {\n",
       "        text-align: right;\n",
       "    }\n",
       "</style>\n",
       "<table border=\"1\" class=\"dataframe\">\n",
       "  <thead>\n",
       "    <tr style=\"text-align: right;\">\n",
       "      <th></th>\n",
       "      <th>loan_id</th>\n",
       "      <th>is_first_loan</th>\n",
       "      <th>fully_repaid_previous_loans</th>\n",
       "      <th>currently_repaying_other_loans</th>\n",
       "      <th>total_credit_card_limit</th>\n",
       "      <th>...</th>\n",
       "      <th>dependent_number</th>\n",
       "      <th>loan_purpose</th>\n",
       "      <th>date</th>\n",
       "      <th>loan_granted</th>\n",
       "      <th>loan_repaid</th>\n",
       "    </tr>\n",
       "  </thead>\n",
       "  <tbody>\n",
       "    <tr>\n",
       "      <th>0</th>\n",
       "      <td>289774</td>\n",
       "      <td>1</td>\n",
       "      <td>NaN</td>\n",
       "      <td>NaN</td>\n",
       "      <td>8000</td>\n",
       "      <td>...</td>\n",
       "      <td>3</td>\n",
       "      <td>business</td>\n",
       "      <td>2012-01-31</td>\n",
       "      <td>0</td>\n",
       "      <td>NaN</td>\n",
       "    </tr>\n",
       "    <tr>\n",
       "      <th>1</th>\n",
       "      <td>482590</td>\n",
       "      <td>0</td>\n",
       "      <td>1.0</td>\n",
       "      <td>0.0</td>\n",
       "      <td>4500</td>\n",
       "      <td>...</td>\n",
       "      <td>1</td>\n",
       "      <td>investment</td>\n",
       "      <td>2012-11-02</td>\n",
       "      <td>0</td>\n",
       "      <td>NaN</td>\n",
       "    </tr>\n",
       "    <tr>\n",
       "      <th>2</th>\n",
       "      <td>135565</td>\n",
       "      <td>1</td>\n",
       "      <td>NaN</td>\n",
       "      <td>NaN</td>\n",
       "      <td>6900</td>\n",
       "      <td>...</td>\n",
       "      <td>8</td>\n",
       "      <td>other</td>\n",
       "      <td>2012-07-16</td>\n",
       "      <td>1</td>\n",
       "      <td>1.0</td>\n",
       "    </tr>\n",
       "    <tr>\n",
       "      <th>3</th>\n",
       "      <td>207797</td>\n",
       "      <td>0</td>\n",
       "      <td>1.0</td>\n",
       "      <td>0.0</td>\n",
       "      <td>1200</td>\n",
       "      <td>...</td>\n",
       "      <td>1</td>\n",
       "      <td>investment</td>\n",
       "      <td>2012-06-05</td>\n",
       "      <td>0</td>\n",
       "      <td>NaN</td>\n",
       "    </tr>\n",
       "    <tr>\n",
       "      <th>4</th>\n",
       "      <td>828078</td>\n",
       "      <td>0</td>\n",
       "      <td>0.0</td>\n",
       "      <td>0.0</td>\n",
       "      <td>6900</td>\n",
       "      <td>...</td>\n",
       "      <td>1</td>\n",
       "      <td>emergency_funds</td>\n",
       "      <td>2012-11-28</td>\n",
       "      <td>0</td>\n",
       "      <td>NaN</td>\n",
       "    </tr>\n",
       "  </tbody>\n",
       "</table>\n",
       "<p>5 rows × 16 columns</p>\n",
       "</div>"
      ],
      "text/plain": [
       "   loan_id  is_first_loan  fully_repaid_previous_loans  currently_repaying_other_loans  total_credit_card_limit  ...  dependent_number     loan_purpose        date  loan_granted  loan_repaid\n",
       "0   289774              1                          NaN                             NaN                     8000  ...                 3         business  2012-01-31             0          NaN\n",
       "1   482590              0                          1.0                             0.0                     4500  ...                 1       investment  2012-11-02             0          NaN\n",
       "2   135565              1                          NaN                             NaN                     6900  ...                 8            other  2012-07-16             1          1.0\n",
       "3   207797              0                          1.0                             0.0                     1200  ...                 1       investment  2012-06-05             0          NaN\n",
       "4   828078              0                          0.0                             0.0                     6900  ...                 1  emergency_funds  2012-11-28             0          NaN\n",
       "\n",
       "[5 rows x 16 columns]"
      ]
     },
     "execution_count": 16,
     "metadata": {},
     "output_type": "execute_result"
    }
   ],
   "source": [
    "data.head()"
   ]
  },
  {
   "cell_type": "code",
   "execution_count": 17,
   "metadata": {},
   "outputs": [
    {
     "name": "stdout",
     "output_type": "stream",
     "text": [
      "loan_id                                                0\n",
      "is_first_loan                                          0\n",
      "total_credit_card_limit                                0\n",
      "saving_amount                                          0\n",
      "checking_amount                                        0\n",
      "is_employed                                            0\n",
      "yearly_salary                                          0\n",
      "age                                                    0\n",
      "dependent_number                                       0\n",
      "loan_purpose                                           0\n",
      "date                                                   0\n",
      "loan_granted                                           0\n",
      "avg_percentage_credit_card_limit_used_last_year     6972\n",
      "loan_repaid                                        53446\n",
      "fully_repaid_previous_loans                        54947\n",
      "currently_repaying_other_loans                     54947\n",
      "dtype: int64\n"
     ]
    }
   ],
   "source": [
    "# let's count NAs per column\n",
    "print(data.isnull().sum().sort_values())"
   ]
  },
  {
   "cell_type": "markdown",
   "metadata": {},
   "source": [
    "“fully_repaid_previous_loans” and “currently_repaying_other_loans” have the same number of NAs. These would make sense if they exactly match the number of people who never got any other loans. Let’s see:\n"
   ]
  },
  {
   "cell_type": "code",
   "execution_count": 20,
   "metadata": {},
   "outputs": [
    {
     "data": {
      "text/plain": [
       "True    101100\n",
       "dtype: int64"
      ]
     },
     "execution_count": 20,
     "metadata": {},
     "output_type": "execute_result"
    }
   ],
   "source": [
    "(data.fully_repaid_previous_loans.isnull() == (data.is_first_loan == 1)).value_counts()"
   ]
  },
  {
   "cell_type": "code",
   "execution_count": 21,
   "metadata": {},
   "outputs": [
    {
     "name": "stdout",
     "output_type": "stream",
     "text": [
      "True    101100\n",
      "dtype: int64\n"
     ]
    }
   ],
   "source": [
    "print((data.currently_repaying_other_loans.isnull()==(data.is_first_loan == 1)).value_counts())"
   ]
  },
  {
   "cell_type": "markdown",
   "metadata": {},
   "source": [
    "Yes, they match exactly. We can just replace those NAs with -1"
   ]
  },
  {
   "cell_type": "code",
   "execution_count": 22,
   "metadata": {},
   "outputs": [],
   "source": [
    "data.fully_repaid_previous_loans.fillna(-1, inplace=True) \n",
    "data.currently_repaying_other_loans.fillna(-1, inplace=True) "
   ]
  },
  {
   "cell_type": "code",
   "execution_count": 32,
   "metadata": {},
   "outputs": [],
   "source": [
    "#print(data[data['is_first_loan'] == 1]['fully_repaid_previous_loans'].unique())\n",
    "#print(data[data['is_first_loan'] == 1]['currently_repaying_other_loans'].unique())"
   ]
  },
  {
   "cell_type": "markdown",
   "metadata": {},
   "source": [
    "At this point, we don't really need the variable is_first_loan since its information is already inside other variables via the -1 flag"
   ]
  },
  {
   "cell_type": "code",
   "execution_count": 23,
   "metadata": {},
   "outputs": [],
   "source": [
    "del data['is_first_loan']"
   ]
  },
  {
   "cell_type": "markdown",
   "metadata": {},
   "source": [
    "“Loan repaid” as NA would make sense if the loan was not granted in the first place. Let’s check:"
   ]
  },
  {
   "cell_type": "code",
   "execution_count": 24,
   "metadata": {},
   "outputs": [
    {
     "name": "stdout",
     "output_type": "stream",
     "text": [
      "True    101100\n",
      "dtype: int64\n"
     ]
    }
   ],
   "source": [
    "print((data.loan_repaid.isnull()==(data.loan_granted == 0)).value_counts())"
   ]
  },
  {
   "cell_type": "code",
   "execution_count": 25,
   "metadata": {},
   "outputs": [],
   "source": [
    "data.loan_repaid.fillna(-1, inplace=True) "
   ]
  },
  {
   "cell_type": "markdown",
   "metadata": {},
   "source": [
    "Finally, “avg_percentage_credit_card_limit_used_last_year” NA could simply mean that that person doesn’t have a credit card. Let’s see:\n"
   ]
  },
  {
   "cell_type": "code",
   "execution_count": 26,
   "metadata": {},
   "outputs": [
    {
     "name": "stdout",
     "output_type": "stream",
     "text": [
      "True    101100\n",
      "dtype: int64\n"
     ]
    }
   ],
   "source": [
    "print((data.avg_percentage_credit_card_limit_used_last_year.isnull()==(data.total_credit_card_limit == 0)).value_counts())"
   ]
  },
  {
   "cell_type": "markdown",
   "metadata": {},
   "source": [
    "Yes, they match exactly. Even in this case, we can just replace it with -1."
   ]
  },
  {
   "cell_type": "code",
   "execution_count": 27,
   "metadata": {},
   "outputs": [],
   "source": [
    "#let's change the column name with something shorter:\n",
    "data.rename(columns = {'avg_percentage_credit_card_limit_used_last_year':'pct_credit_card'}, inplace = True)\n",
    "#And replace the NAs\n",
    "data.pct_credit_card.fillna(-1, inplace=True) "
   ]
  },
  {
   "cell_type": "code",
   "execution_count": 28,
   "metadata": {},
   "outputs": [
    {
     "name": "stdout",
     "output_type": "stream",
     "text": [
      "0\n"
     ]
    }
   ],
   "source": [
    "print(data.isnull().sum().max())"
   ]
  },
  {
   "cell_type": "code",
   "execution_count": 29,
   "metadata": {},
   "outputs": [
    {
     "name": "stdout",
     "output_type": "stream",
     "text": [
      "loan_id                           0\n",
      "fully_repaid_previous_loans       0\n",
      "currently_repaying_other_loans    0\n",
      "total_credit_card_limit           0\n",
      "pct_credit_card                   0\n",
      "saving_amount                     0\n",
      "checking_amount                   0\n",
      "is_employed                       0\n",
      "yearly_salary                     0\n",
      "age                               0\n",
      "dependent_number                  0\n",
      "loan_purpose                      0\n",
      "date                              0\n",
      "loan_granted                      0\n",
      "loan_repaid                       0\n",
      "dtype: int64\n"
     ]
    }
   ],
   "source": [
    "print(data.isnull().sum().sort_values())"
   ]
  },
  {
   "cell_type": "markdown",
   "metadata": {},
   "source": [
    "There are no more NA"
   ]
  },
  {
   "cell_type": "code",
   "execution_count": 30,
   "metadata": {
    "collapsed": true
   },
   "outputs": [
    {
     "data": {
      "text/html": [
       "<div>\n",
       "<style scoped>\n",
       "    .dataframe tbody tr th:only-of-type {\n",
       "        vertical-align: middle;\n",
       "    }\n",
       "\n",
       "    .dataframe tbody tr th {\n",
       "        vertical-align: top;\n",
       "    }\n",
       "\n",
       "    .dataframe thead th {\n",
       "        text-align: right;\n",
       "    }\n",
       "</style>\n",
       "<table border=\"1\" class=\"dataframe\">\n",
       "  <thead>\n",
       "    <tr style=\"text-align: right;\">\n",
       "      <th></th>\n",
       "      <th>loan_id</th>\n",
       "      <th>fully_repaid_previous_loans</th>\n",
       "      <th>currently_repaying_other_loans</th>\n",
       "      <th>total_credit_card_limit</th>\n",
       "      <th>pct_credit_card</th>\n",
       "      <th>...</th>\n",
       "      <th>dependent_number</th>\n",
       "      <th>loan_purpose</th>\n",
       "      <th>date</th>\n",
       "      <th>loan_granted</th>\n",
       "      <th>loan_repaid</th>\n",
       "    </tr>\n",
       "  </thead>\n",
       "  <tbody>\n",
       "    <tr>\n",
       "      <th>0</th>\n",
       "      <td>289774</td>\n",
       "      <td>-1.0</td>\n",
       "      <td>-1.0</td>\n",
       "      <td>8000</td>\n",
       "      <td>0.49</td>\n",
       "      <td>...</td>\n",
       "      <td>3</td>\n",
       "      <td>business</td>\n",
       "      <td>2012-01-31</td>\n",
       "      <td>0</td>\n",
       "      <td>-1.0</td>\n",
       "    </tr>\n",
       "    <tr>\n",
       "      <th>1</th>\n",
       "      <td>482590</td>\n",
       "      <td>1.0</td>\n",
       "      <td>0.0</td>\n",
       "      <td>4500</td>\n",
       "      <td>1.03</td>\n",
       "      <td>...</td>\n",
       "      <td>1</td>\n",
       "      <td>investment</td>\n",
       "      <td>2012-11-02</td>\n",
       "      <td>0</td>\n",
       "      <td>-1.0</td>\n",
       "    </tr>\n",
       "    <tr>\n",
       "      <th>2</th>\n",
       "      <td>135565</td>\n",
       "      <td>-1.0</td>\n",
       "      <td>-1.0</td>\n",
       "      <td>6900</td>\n",
       "      <td>0.82</td>\n",
       "      <td>...</td>\n",
       "      <td>8</td>\n",
       "      <td>other</td>\n",
       "      <td>2012-07-16</td>\n",
       "      <td>1</td>\n",
       "      <td>1.0</td>\n",
       "    </tr>\n",
       "    <tr>\n",
       "      <th>3</th>\n",
       "      <td>207797</td>\n",
       "      <td>1.0</td>\n",
       "      <td>0.0</td>\n",
       "      <td>1200</td>\n",
       "      <td>0.82</td>\n",
       "      <td>...</td>\n",
       "      <td>1</td>\n",
       "      <td>investment</td>\n",
       "      <td>2012-06-05</td>\n",
       "      <td>0</td>\n",
       "      <td>-1.0</td>\n",
       "    </tr>\n",
       "    <tr>\n",
       "      <th>4</th>\n",
       "      <td>828078</td>\n",
       "      <td>0.0</td>\n",
       "      <td>0.0</td>\n",
       "      <td>6900</td>\n",
       "      <td>0.80</td>\n",
       "      <td>...</td>\n",
       "      <td>1</td>\n",
       "      <td>emergency_funds</td>\n",
       "      <td>2012-11-28</td>\n",
       "      <td>0</td>\n",
       "      <td>-1.0</td>\n",
       "    </tr>\n",
       "  </tbody>\n",
       "</table>\n",
       "<p>5 rows × 15 columns</p>\n",
       "</div>"
      ],
      "text/plain": [
       "   loan_id  fully_repaid_previous_loans  currently_repaying_other_loans  total_credit_card_limit  pct_credit_card  ...  dependent_number     loan_purpose        date  loan_granted  loan_repaid\n",
       "0   289774                         -1.0                            -1.0                     8000             0.49  ...                 3         business  2012-01-31             0         -1.0\n",
       "1   482590                          1.0                             0.0                     4500             1.03  ...                 1       investment  2012-11-02             0         -1.0\n",
       "2   135565                         -1.0                            -1.0                     6900             0.82  ...                 8            other  2012-07-16             1          1.0\n",
       "3   207797                          1.0                             0.0                     1200             0.82  ...                 1       investment  2012-06-05             0         -1.0\n",
       "4   828078                          0.0                             0.0                     6900             0.80  ...                 1  emergency_funds  2012-11-28             0         -1.0\n",
       "\n",
       "[5 rows x 15 columns]"
      ]
     },
     "execution_count": 30,
     "metadata": {},
     "output_type": "execute_result"
    }
   ],
   "source": [
    "data.head()"
   ]
  },
  {
   "cell_type": "code",
   "execution_count": 33,
   "metadata": {},
   "outputs": [
    {
     "data": {
      "text/html": [
       "<div>\n",
       "<style scoped>\n",
       "    .dataframe tbody tr th:only-of-type {\n",
       "        vertical-align: middle;\n",
       "    }\n",
       "\n",
       "    .dataframe tbody tr th {\n",
       "        vertical-align: top;\n",
       "    }\n",
       "\n",
       "    .dataframe thead th {\n",
       "        text-align: right;\n",
       "    }\n",
       "</style>\n",
       "<table border=\"1\" class=\"dataframe\">\n",
       "  <thead>\n",
       "    <tr style=\"text-align: right;\">\n",
       "      <th></th>\n",
       "      <th>loan_id</th>\n",
       "      <th>fully_repaid_previous_loans</th>\n",
       "      <th>currently_repaying_other_loans</th>\n",
       "      <th>total_credit_card_limit</th>\n",
       "      <th>pct_credit_card</th>\n",
       "      <th>...</th>\n",
       "      <th>yearly_salary</th>\n",
       "      <th>age</th>\n",
       "      <th>dependent_number</th>\n",
       "      <th>loan_granted</th>\n",
       "      <th>loan_repaid</th>\n",
       "    </tr>\n",
       "  </thead>\n",
       "  <tbody>\n",
       "    <tr>\n",
       "      <th>count</th>\n",
       "      <td>101100.000000</td>\n",
       "      <td>101100.000000</td>\n",
       "      <td>101100.000000</td>\n",
       "      <td>101100.000000</td>\n",
       "      <td>101100.000000</td>\n",
       "      <td>...</td>\n",
       "      <td>101100.000000</td>\n",
       "      <td>101100.000000</td>\n",
       "      <td>101100.000000</td>\n",
       "      <td>101100.000000</td>\n",
       "      <td>101100.000000</td>\n",
       "    </tr>\n",
       "    <tr>\n",
       "      <th>mean</th>\n",
       "      <td>499666.826726</td>\n",
       "      <td>-0.132957</td>\n",
       "      <td>-0.377171</td>\n",
       "      <td>4112.743818</td>\n",
       "      <td>0.605241</td>\n",
       "      <td>...</td>\n",
       "      <td>21020.727992</td>\n",
       "      <td>41.491632</td>\n",
       "      <td>3.864748</td>\n",
       "      <td>0.471355</td>\n",
       "      <td>-0.224926</td>\n",
       "    </tr>\n",
       "    <tr>\n",
       "      <th>std</th>\n",
       "      <td>288662.006929</td>\n",
       "      <td>0.967656</td>\n",
       "      <td>0.753366</td>\n",
       "      <td>2129.121462</td>\n",
       "      <td>0.472484</td>\n",
       "      <td>...</td>\n",
       "      <td>18937.581415</td>\n",
       "      <td>12.825570</td>\n",
       "      <td>2.635491</td>\n",
       "      <td>0.499181</td>\n",
       "      <td>0.884183</td>\n",
       "    </tr>\n",
       "    <tr>\n",
       "      <th>min</th>\n",
       "      <td>30.000000</td>\n",
       "      <td>-1.000000</td>\n",
       "      <td>-1.000000</td>\n",
       "      <td>0.000000</td>\n",
       "      <td>-1.000000</td>\n",
       "      <td>...</td>\n",
       "      <td>0.000000</td>\n",
       "      <td>18.000000</td>\n",
       "      <td>0.000000</td>\n",
       "      <td>0.000000</td>\n",
       "      <td>-1.000000</td>\n",
       "    </tr>\n",
       "    <tr>\n",
       "      <th>25%</th>\n",
       "      <td>250333.750000</td>\n",
       "      <td>-1.000000</td>\n",
       "      <td>-1.000000</td>\n",
       "      <td>2700.000000</td>\n",
       "      <td>0.560000</td>\n",
       "      <td>...</td>\n",
       "      <td>0.000000</td>\n",
       "      <td>32.000000</td>\n",
       "      <td>2.000000</td>\n",
       "      <td>0.000000</td>\n",
       "      <td>-1.000000</td>\n",
       "    </tr>\n",
       "    <tr>\n",
       "      <th>50%</th>\n",
       "      <td>499885.000000</td>\n",
       "      <td>-1.000000</td>\n",
       "      <td>-1.000000</td>\n",
       "      <td>4100.000000</td>\n",
       "      <td>0.710000</td>\n",
       "      <td>...</td>\n",
       "      <td>21500.000000</td>\n",
       "      <td>41.000000</td>\n",
       "      <td>3.000000</td>\n",
       "      <td>0.000000</td>\n",
       "      <td>-1.000000</td>\n",
       "    </tr>\n",
       "    <tr>\n",
       "      <th>75%</th>\n",
       "      <td>749706.250000</td>\n",
       "      <td>1.000000</td>\n",
       "      <td>0.000000</td>\n",
       "      <td>5500.000000</td>\n",
       "      <td>0.850000</td>\n",
       "      <td>...</td>\n",
       "      <td>35300.000000</td>\n",
       "      <td>50.000000</td>\n",
       "      <td>6.000000</td>\n",
       "      <td>1.000000</td>\n",
       "      <td>1.000000</td>\n",
       "    </tr>\n",
       "    <tr>\n",
       "      <th>max</th>\n",
       "      <td>999987.000000</td>\n",
       "      <td>1.000000</td>\n",
       "      <td>1.000000</td>\n",
       "      <td>13500.000000</td>\n",
       "      <td>1.090000</td>\n",
       "      <td>...</td>\n",
       "      <td>97200.000000</td>\n",
       "      <td>79.000000</td>\n",
       "      <td>8.000000</td>\n",
       "      <td>1.000000</td>\n",
       "      <td>1.000000</td>\n",
       "    </tr>\n",
       "  </tbody>\n",
       "</table>\n",
       "<p>8 rows × 13 columns</p>\n",
       "</div>"
      ],
      "text/plain": [
       "             loan_id  fully_repaid_previous_loans  currently_repaying_other_loans  total_credit_card_limit  pct_credit_card  ...  yearly_salary            age  dependent_number   loan_granted    loan_repaid\n",
       "count  101100.000000                101100.000000                   101100.000000            101100.000000    101100.000000  ...  101100.000000  101100.000000     101100.000000  101100.000000  101100.000000\n",
       "mean   499666.826726                    -0.132957                       -0.377171              4112.743818         0.605241  ...   21020.727992      41.491632          3.864748       0.471355      -0.224926\n",
       "std    288662.006929                     0.967656                        0.753366              2129.121462         0.472484  ...   18937.581415      12.825570          2.635491       0.499181       0.884183\n",
       "min        30.000000                    -1.000000                       -1.000000                 0.000000        -1.000000  ...       0.000000      18.000000          0.000000       0.000000      -1.000000\n",
       "25%    250333.750000                    -1.000000                       -1.000000              2700.000000         0.560000  ...       0.000000      32.000000          2.000000       0.000000      -1.000000\n",
       "50%    499885.000000                    -1.000000                       -1.000000              4100.000000         0.710000  ...   21500.000000      41.000000          3.000000       0.000000      -1.000000\n",
       "75%    749706.250000                     1.000000                        0.000000              5500.000000         0.850000  ...   35300.000000      50.000000          6.000000       1.000000       1.000000\n",
       "max    999987.000000                     1.000000                        1.000000             13500.000000         1.090000  ...   97200.000000      79.000000          8.000000       1.000000       1.000000\n",
       "\n",
       "[8 rows x 13 columns]"
      ]
     },
     "execution_count": 33,
     "metadata": {},
     "output_type": "execute_result"
    }
   ],
   "source": [
    "data.describe()"
   ]
  },
  {
   "cell_type": "markdown",
   "metadata": {},
   "source": [
    "Let’s now build the model. We will use a random forest here. RF should work well with these kinds of data, especially because these variables appear to be obviously correlated with each other. After all, they are pretty much all proxies for the economic situation of the person asking for the loan. And RF can deal extremely well with correlated variables. Also, RF works well in high dimensions and requires minimum time to be optimized.\n",
    "\n",
    "At first, we will focus only on the loans that were granted by the bank. For these events, we know exactly whether the loan was repaid or not, and therefore we can evaluate our model accuracy. After this step, we will also take into account the loans that were not granted by the bank."
   ]
  },
  {
   "cell_type": "code",
   "execution_count": 34,
   "metadata": {},
   "outputs": [],
   "source": [
    "from sklearn.ensemble import RandomForestClassifier\n",
    "from sklearn.metrics import confusion_matrix\n",
    "from sklearn.metrics import precision_score\n",
    "from sklearn.model_selection import train_test_split\n",
    "from pdpbox import pdp, info_plots\n",
    "np.random.seed(1234)\n",
    "  \n",
    "#Let's extract week of the year from the date to get a sense of yearly trends\n",
    "data['date_week'] = pd.to_datetime(data.date).dt.week\n",
    "  \n",
    "#We don't need these two columns in the model\n",
    "del data['loan_id'] \n",
    "del data['date'] \n",
    "  \n",
    "#Let's only consider loans that were granted for now\n",
    "data_granted = data.query('loan_granted == 1')\n",
    "del data_granted['loan_granted']"
   ]
  },
  {
   "cell_type": "code",
   "execution_count": 35,
   "metadata": {},
   "outputs": [
    {
     "name": "stdout",
     "output_type": "stream",
     "text": [
      "OOB accuracy is 0.9171727449047725 \n",
      " OOB Confusion Matrix \n",
      "        0      1\n",
      "0  10138   1061\n",
      "1   1544  18708\n"
     ]
    }
   ],
   "source": [
    "#make dummies\n",
    "data_granted_d = pd.get_dummies(data_granted, drop_first=True)\n",
    "  \n",
    "#Split the dataset and build the model. We will use standard RF params here. With more time we would optimize them more, although we don't expect the standard params to be far off from the optimal ones (after all, that's one of the main RF strengths)\n",
    "train, test = train_test_split(data_granted_d, test_size = 0.34)\n",
    "      \n",
    "#build the model\n",
    "rf = RandomForestClassifier(n_estimators=100, max_features=7, oob_score=True)\n",
    "rf.fit(train.drop('loan_repaid', axis=1), train['loan_repaid'])\n",
    "  \n",
    "#let's print OOB accuracy and confusion matrix\n",
    "RandomForestClassifier(bootstrap=True, class_weight=None, criterion='gini',\n",
    "            max_depth=None, max_features=7, max_leaf_nodes=None,\n",
    "            min_impurity_decrease=0.0, min_impurity_split=None,\n",
    "            min_samples_leaf=1, min_samples_split=2,\n",
    "            min_weight_fraction_leaf=0.0, n_estimators=100, n_jobs=None,\n",
    "            oob_score=True, random_state=None, verbose=0, warm_start=False)\n",
    "print(\n",
    "\"OOB accuracy is\", \n",
    "rf.oob_score_, \n",
    "\"\\n\", \n",
    "\"OOB Confusion Matrix\", \n",
    "\"\\n\",\n",
    "pd.DataFrame(confusion_matrix(train['loan_repaid'], rf.oob_decision_function_[:,1].round(), labels=[0, 1]))\n",
    ")"
   ]
  },
  {
   "cell_type": "code",
   "execution_count": 36,
   "metadata": {},
   "outputs": [
    {
     "name": "stdout",
     "output_type": "stream",
     "text": [
      "Test accuracy is 0.9186570388199716 \n",
      " Test Set Confusion Matrix \n",
      "       0     1\n",
      "0  5194   555\n",
      "1   763  9691\n"
     ]
    }
   ],
   "source": [
    "#and let's print test accuracy and confusion matrix\n",
    "print(\n",
    "\"Test accuracy is\", rf.score(test.drop('loan_repaid', axis=1),test['loan_repaid']), \n",
    "\"\\n\", \n",
    "\"Test Set Confusion Matrix\", \n",
    "\"\\n\",\n",
    "pd.DataFrame(confusion_matrix(test['loan_repaid'], rf.predict(test.drop('loan_repaid', axis=1)), labels=[0, 1]))\n",
    ")"
   ]
  },
  {
   "cell_type": "markdown",
   "metadata": {},
   "source": [
    "So, OOB error and test error are pretty similar around 8%. We are confident we are not overfitting. Overall, the confusion matrix looks good too, with class errors below 10%. If we cared about the very best possible accuracy or specifically minimizing false positives or false negatives, we would find the best cut-off point. In this case, that doesn’t appear to be too important. The cost of a false positive is the same as false negative and, overall, the model seems to be doing already pretty well. Therefore, we are fine using the default 0.5 cut-off point. With more time though, we would definitely look into the ROC and identify the very best possible cut-off point.\n",
    "\n",
    "Let’s now check how our model compares to the bank in terms of profitability:"
   ]
  },
  {
   "cell_type": "code",
   "execution_count": 37,
   "metadata": {},
   "outputs": [],
   "source": [
    "#Bank profits\n",
    "bank_score = (data_granted.loan_repaid==1).sum()-(data_granted.loan_repaid==0).sum()\n"
   ]
  },
  {
   "cell_type": "code",
   "execution_count": 38,
   "metadata": {},
   "outputs": [],
   "source": [
    "#Our profits. We will feed the entire dataset into our model and use the check predictions vs actual data to estimate the profits\n",
    "predictions = rf.predict(data_granted_d.drop('loan_repaid', axis=1))\n",
    "our_score = ((predictions == 1) & (data_granted_d['loan_repaid'] == 1)).sum() - ((predictions == 1) & (data_granted['loan_repaid'] == 0)).sum()"
   ]
  },
  {
   "cell_type": "code",
   "execution_count": 39,
   "metadata": {},
   "outputs": [
    {
     "name": "stdout",
     "output_type": "stream",
     "text": [
      "Our score on people who had got the loan is: 29388 \n",
      " The bank score is: 13758\n"
     ]
    }
   ],
   "source": [
    "print(\"Our score on people who had got the loan is:\", our_score, \"\\n\", \"The bank score is:\", bank_score)"
   ]
  },
  {
   "cell_type": "markdown",
   "metadata": {},
   "source": [
    "However, in this score we are somehow assuming that we are not giving the loan to people who hadn’t got the loan from the bank. Firstly, this is unrealistic: in future we will not know who is receiving a loan from the bank. And secondly, it is probably sub-optimal: there are likely many people who haven’t got the loan that might be able to repay it.\n",
    "So let’s try to estimate profits from giving a loan to those people too. This is a bit harder because we don’t have a label. Our approach is the following: We will use our model to decide who should receive a loan among people who hadn’t got it from the bank To estimate profits from those people, we will use our model precision. Let’s say that from the confusion matrix, we know that if we predict class 1, our model is right ~95% of the times. So, we can assume a similar score on the group of people who hadn’t got the loan. I.e. if we predict class 1 for 100 people, we can assume our profits will be 95 - 5 = 90."
   ]
  },
  {
   "cell_type": "code",
   "execution_count": 44,
   "metadata": {},
   "outputs": [
    {
     "name": "stdout",
     "output_type": "stream",
     "text": [
      "Our score is: 46100.0 \n",
      " The bank score is: 13758\n"
     ]
    }
   ],
   "source": [
    "#we will use our test set to estimate our model precision\n",
    "precision = precision_score(test['loan_repaid'], rf.predict(test.drop('loan_repaid', axis=1)))\n",
    " \n",
    "#get the predictions\n",
    "data_non_granted = data.query('loan_granted == 0')\n",
    "del data_non_granted['loan_granted']\n",
    "data_non_granted_d = pd.get_dummies(data_non_granted, drop_first=True)\n",
    "predictions_non_granted = rf.predict(data_non_granted_d.drop('loan_repaid', axis=1))\n",
    " \n",
    "#use precision to estimate who will repay it and, therefore, final profits\n",
    "profits_non_granted = ((predictions_non_granted==1).sum() * precision - (predictions_non_granted==1).sum() * (1-precision)).round()\n",
    " \n",
    "#These are the final scores. Obviously, bank profits are same as before\n",
    "print(\"Our score is:\", our_score+profits_non_granted, \"\\n\", \"The bank score is:\", bank_score)"
   ]
  },
  {
   "cell_type": "markdown",
   "metadata": {},
   "source": [
    "Overall, there are a few assumptions made along the way that probably made our score a bit higher than what we will get once we put this model into production. For instance, we tested and trained on the bank data. This gave us an advantage over the bank, whose model had to be built previously in order to choose who should receive the loan. We also assumed that our model will perform similarly when applied to fairly different datasets: people who had got the loan and people who had not.\n",
    "\n",
    "That being said, at this stage, our goal is not to have a 100% accurate picture of what will happen once we put the model into production. Only experimentation can do that. Our goal here is to get a realistic estimate of what might happen, to decide if it makes sense to do the experiment. And our results are reliable enough to answer that question.\n",
    "\n",
    "Describe the impact of the most important variables on the prediction. Also, focus on the variable “is_employed”, which describes whether the borrower is employed when she asks for the loan. How does this variable impact the model?\n",
    "\n",
    "Regarding the impact of the most important variables, it is the usual stuff. Build partial dependence plots for each variable and describe them, focusing on how a change in a given variable value impacts the prediction. We will just do for one variable as an example."
   ]
  },
  {
   "cell_type": "code",
   "execution_count": 45,
   "metadata": {},
   "outputs": [
    {
     "data": {
      "text/plain": [
       "<matplotlib.axes._subplots.AxesSubplot at 0x1a1cadbfd0>"
      ]
     },
     "execution_count": 45,
     "metadata": {},
     "output_type": "execute_result"
    },
    {
     "data": {
      "image/png": "[encoded data removed]",
      "text/plain": [
       "<Figure size 432x288 with 1 Axes>"
      ]
     },
     "metadata": {
      "needs_background": "light"
     },
     "output_type": "display_data"
    }
   ],
   "source": [
    "#Let's plot variable importance \n",
    "feat_importances = pd.Series(rf.feature_importances_, index=train.drop('loan_repaid', axis=1).columns)\n",
    "feat_importances.sort_values().plot(kind='barh')"
   ]
  },
  {
   "cell_type": "code",
   "execution_count": 46,
   "metadata": {},
   "outputs": [
    {
     "data": {
      "text/plain": [
       "<matplotlib.axes._subplots.AxesSubplot at 0x11a40a6a0>"
      ]
     },
     "execution_count": 46,
     "metadata": {},
     "output_type": "execute_result"
    },
    {
     "data": {
      "image/png": "[encoded data removed]",
      "text/plain": [
       "<Figure size 432x288 with 1 Axes>"
      ]
     },
     "metadata": {
      "needs_background": "light"
     },
     "output_type": "display_data"
    }
   ],
   "source": [
    "#saving_amount\n",
    "pdp_iso = pdp.pdp_isolate(model=rf, \n",
    "                          dataset=train.drop('loan_repaid', axis=1),      \n",
    "                          model_features=list(train.drop('loan_repaid', axis=1)), \n",
    "                          feature='saving_amount', \n",
    "                          num_grid_points=50)\n",
    "pdp_dataset = pd.Series(pdp_iso.pdp, index=pdp_iso.feature_grids)\n",
    "pdp_dataset.plot(title='Partial Plot - saving_amount')"
   ]
  },
  {
   "cell_type": "markdown",
   "metadata": {},
   "source": [
    "The spike close to the origin is likely noise. There are very few people in the dataset with close to 0 saving amount. Except for that, the plot is very interesting. It looks like there are two clear segments: if saving amounts are below 2K, then probability of paying back the loan is way lower. After 2K, the probability goes up significantly. Also, once saving amounts are large enough, the curve flattens. This means that, in order to repay a loan, it is important to have at least X money in your saving account, but once you are above that threshold, it doesn’t really matter anymore. Whether you have 3K or 8K, the probability is the same.\n",
    "\n",
    "Let’s now focus on the second part of the question: the impact of is_employed. We can see from the variable importance plot that that variable is barely used by the model. You can double check this by removing it from the dataset and rebuilding the RF. You will get pretty much the same exact score for accuracy, precision, etc.\n",
    "\n",
    "However, being employed taken by itself must be important. We can see that the proportion of people who pay back the loan is significantly different once we segment by is_employed."
   ]
  },
  {
   "cell_type": "code",
   "execution_count": 47,
   "metadata": {},
   "outputs": [
    {
     "name": "stdout",
     "output_type": "stream",
     "text": [
      "   is_employed  proportion_loan_repaid\n",
      "0            0                0.179428\n",
      "1            1                0.690431\n"
     ]
    }
   ],
   "source": [
    "print(data_granted.groupby('is_employed')['loan_repaid'].mean().reset_index(name ='proportion_loan_repaid'))"
   ]
  },
  {
   "cell_type": "markdown",
   "metadata": {},
   "source": [
    "The reason is_employed appears not important is that it is highly correlated with a more informative variable: yearly_salary."
   ]
  },
  {
   "cell_type": "code",
   "execution_count": 49,
   "metadata": {},
   "outputs": [
    {
     "data": {
      "text/plain": [
       "0"
      ]
     },
     "execution_count": 49,
     "metadata": {},
     "output_type": "execute_result"
    }
   ],
   "source": [
    "data.is_employed[0]"
   ]
  },
  {
   "cell_type": "code",
   "execution_count": 50,
   "metadata": {},
   "outputs": [
    {
     "data": {
      "text/plain": [
       "0             0\n",
       "1         13500\n",
       "2         24500\n",
       "3             0\n",
       "4         18100\n",
       "          ...  \n",
       "101095        0\n",
       "101096    36100\n",
       "101097    40800\n",
       "101098    41900\n",
       "101099    44200\n",
       "Name: yearly_salary, Length: 101100, dtype: int64"
      ]
     },
     "execution_count": 50,
     "metadata": {},
     "output_type": "execute_result"
    }
   ],
   "source": [
    "data.yearly_salary"
   ]
  },
  {
   "cell_type": "code",
   "execution_count": 53,
   "metadata": {},
   "outputs": [],
   "source": [
    "from scipy.stats import pearsonr"
   ]
  },
  {
   "cell_type": "code",
   "execution_count": 55,
   "metadata": {},
   "outputs": [
    {
     "data": {
      "text/plain": [
       "(0.7990505464063629, 0.0)"
      ]
     },
     "execution_count": 55,
     "metadata": {},
     "output_type": "execute_result"
    }
   ],
   "source": [
    "pearsonr(data.yearly_salary, data.is_employed)"
   ]
  },
  {
   "cell_type": "code",
   "execution_count": 56,
   "metadata": {},
   "outputs": [
    {
     "name": "stdout",
     "output_type": "stream",
     "text": [
      "Correlation between yearly_salary and is_employed is: 0.8\n"
     ]
    }
   ],
   "source": [
    "print(\"Correlation between yearly_salary and is_employed is:\", round(pearsonr(data.yearly_salary, data.is_employed)[0],2))"
   ]
  },
  {
   "cell_type": "markdown",
   "metadata": {},
   "source": [
    "# Conclusions"
   ]
  },
  {
   "cell_type": "markdown",
   "metadata": {},
   "source": [
    "Yearly_salary variable has already all information within is_employed plus additional information. And RF is smart enough to not pick the same information twice. What we are proving here is that RF, and tree-based models more in general, can deal extremely well with correlated variables. This is not true for many other models, it is a huge pro of RF, and one of the main reasons tree-based models have become so popular.\n",
    "\n",
    "Are there any other variables you’d like to include in the model?\n",
    "\n",
    "Obviously, there are many other variables that can be included in the model to improve its performance. One thing to notice here is that all variables are essentially a snapshot of the economic situation of the person asking for the loan. However, the goal is not really understanding how that person is doing economically today. The goal should be to figure out how much money they will have in future to see if they are able to repay the loan.\n",
    "\n",
    "It would be interesting to have variables that can help understand someone’s trajectory. Education could be an interesting one. A computer science student at a top school might not have a great economic situation today, but is very likely to be able to make a good amount of money in future. Also, having multiple snapshots at different times of the same variables we have in the models could be interesting. I.e. saving amount 1 yr ago, saving amount 2 yrs ago, etc. After all, just like for any other metrics, trend is the most important thing if we want to make a prediction."
   ]
  },
  {
   "cell_type": "code",
   "execution_count": null,
   "metadata": {},
   "outputs": [],
   "source": []
  }
 ],
 "metadata": {
  "kernelspec": {
   "display_name": "Python 3",
   "language": "python",
   "name": "python3"
  },
  "language_info": {
   "codemirror_mode": {
    "name": "ipython",
    "version": 3
   },
   "file_extension": ".py",
   "mimetype": "text/x-python",
   "name": "python",
   "nbconvert_exporter": "python",
   "pygments_lexer": "ipython3",
   "version": "3.7.3"
  }
 },
 "nbformat": 4,
 "nbformat_minor": 2
}
